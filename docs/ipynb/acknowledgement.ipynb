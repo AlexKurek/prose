{
 "cells": [
  {
   "attachments": {},
   "cell_type": "markdown",
   "id": "022120f2-bcdb-4ab5-98de-c532cb1ff6a7",
   "metadata": {},
   "source": [
    "# Acknowledgement\n",
    "\n",
    "`prose` depends on a lot of Python packages and published methods. When using prose in your research, you can generate an aknowledgment sentence (and associated BibTeX entries) based on the blocks used in a [Sequence](prose.Sequence).\n",
    "\n",
    "For example, given the following [Sequence](prose.Sequence)"
   ]
  },
  {
   "cell_type": "code",
   "execution_count": 1,
   "id": "71b1f848-3323-4341-919d-ad3074a8ae61",
   "metadata": {},
   "outputs": [
    {
     "name": "stderr",
     "output_type": "stream",
     "text": [
      "/Users/lgrcia/code/dev/prose/prose/console_utils.py:15: TqdmWarning: IProgress not found. Please update jupyter and ipywidgets. See https://ipywidgets.readthedocs.io/en/stable/user_install.html\n",
      "  from tqdm.autonotebook import tqdm\n"
     ]
    }
   ],
   "source": [
    "from prose import Sequence, blocks\n",
    "\n",
    "sequence = Sequence([\n",
    "    blocks.PointSourceDetection(),              \n",
    "    blocks.psf.Moffat2D(),                           \n",
    "    blocks.AperturePhotometry(),\n",
    "    blocks.catalogs.GaiaCatalog(),\n",
    "])"
   ]
  },
  {
   "attachments": {},
   "cell_type": "markdown",
   "id": "faf91d42-ad42-4f41-8065-d7bdabb99435",
   "metadata": {},
   "source": [
    "and to extract the citations from packages used by its blocks"
   ]
  },
  {
   "cell_type": "code",
   "execution_count": 4,
   "id": "4debd725-7650-49f7-9855-323084c2b619",
   "metadata": {},
   "outputs": [
    {
     "name": "stdout",
     "output_type": "stream",
     "text": [
      "This research made use of \\textsf{prose} \\citep{prose} and its dependencies (astroquery \\citep{astroquery}, photutils \\citep{photutils}, scipy \\citep{scipy}, scikit-image \\citep{scikit-image}, numpy \\citep{numpy} and astropy \\citep{astropy}). \n",
      "\n",
      "\n",
      "@ARTICLE{astroquery,\n",
      "   author = {{Ginsburg}, A. and {Sip{\\H o}cz}, B.~M. and {Brasseur}, C.~E. and\n",
      "\t{Cowperthwaite}, P.~S. and {Craig}, M.~W. and {Deil}, C. and\n",
      "\t{Guillochon}, J. and {Guzman}, G. and {Liedtke}, S. and {Lian Lim}, P. and\n",
      "\t{Lockhart}, K.~E. and {Mommert}, M. and {Morris}, B.~M. and\n",
      "\t{Norman}, H. and {Parikh}, M. and {Persson}, M.~V. and {Robitaille}, T.~P. and\n",
      "\t{Segovia}, J.-C. and {Singer}, L.~P. and {Tollerud}, E.~J. and\n",
      "\t{de Val-Borro}, M. and {Valtchanov}, I. and {Woillez},  ...\n"
     ]
    }
   ],
   "source": [
    "acknowledgement, bibtex = sequence.citations()\n",
    "\n",
    "print(acknowledgement, \"\\n\")\n",
    "print(bibtex[0:500], \"...\")"
   ]
  },
  {
   "attachments": {},
   "cell_type": "markdown",
   "id": "7f95080f-3b11-47de-a0b0-1c7a58f93930",
   "metadata": {},
   "source": [
    "`tex` contains the aknowledgment sentence and `bibtex` the necessary BibTeX entries. Please make sure to check the generated text and BibTeX entries before using them in your work."
   ]
  }
 ],
 "metadata": {
  "kernelspec": {
   "display_name": "Python 3.9.10 ('prose')",
   "language": "python",
   "name": "python3"
  },
  "language_info": {
   "codemirror_mode": {
    "name": "ipython",
    "version": 3
   },
   "file_extension": ".py",
   "mimetype": "text/x-python",
   "name": "python",
   "nbconvert_exporter": "python",
   "pygments_lexer": "ipython3",
   "version": "3.8.16"
  },
  "vscode": {
   "interpreter": {
    "hash": "327e39c7541f8dd36430559e0576acd628c7a51566e4eeaf95603e4b225f803f"
   }
  }
 },
 "nbformat": 4,
 "nbformat_minor": 5
}
