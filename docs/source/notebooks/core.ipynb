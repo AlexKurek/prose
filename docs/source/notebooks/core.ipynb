{
 "cells": [
  {
   "cell_type": "code",
   "execution_count": 1,
   "id": "fabulous-certification",
   "metadata": {},
   "outputs": [],
   "source": [
    "from prose import Image, Block, Sequence\n",
    "import numpy as np\n",
    "\n",
    "# We create a random set of images\n",
    "np.random.seed(42)\n",
    "images = [Image(data=np.random.rand(10,10)) for i in range(5)]"
   ]
  },
  {
   "cell_type": "code",
   "execution_count": 2,
   "id": "therapeutic-setting",
   "metadata": {},
   "outputs": [],
   "source": [
    "# Here is a  block printing hello world and the image mean\n",
    "\n",
    "class HelloWorld(Block):\n",
    "    def run(self, image):\n",
    "        print(f\"Hello world (mean: {np.mean(image.data):.2f})\")"
   ]
  },
  {
   "cell_type": "code",
   "execution_count": 3,
   "id": "valuable-runner",
   "metadata": {},
   "outputs": [
    {
     "name": "stderr",
     "output_type": "stream",
     "text": [
      "\u001b[94mRUN\u001b[39m Hello world: 100%|\u001b[94m██████████████████████\u001b[39m| 5/5 [00:00<00:00, 5613.36images/s]\u001b[0m"
     ]
    },
    {
     "name": "stdout",
     "output_type": "stream",
     "text": [
      "Hello world (mean: 0.47)\n",
      "Hello world (mean: 0.50)\n",
      "Hello world (mean: 0.52)\n",
      "Hello world (mean: 0.49)\n",
      "Hello world (mean: 0.52)\n"
     ]
    },
    {
     "name": "stderr",
     "output_type": "stream",
     "text": [
      "\n"
     ]
    }
   ],
   "source": [
    "# We create a sequence with our custom block and run it\n",
    "\n",
    "sequence = Sequence([HelloWorld()], images, name=\"Hello world\")\n",
    "sequence.run()"
   ]
  }
 ],
 "metadata": {
  "kernelspec": {
   "display_name": "Python 3",
   "language": "python",
   "name": "python3"
  },
  "language_info": {
   "codemirror_mode": {
    "name": "ipython",
    "version": 3
   },
   "file_extension": ".py",
   "mimetype": "text/x-python",
   "name": "python",
   "nbconvert_exporter": "python",
   "pygments_lexer": "ipython3",
   "version": "3.6.5"
  }
 },
 "nbformat": 4,
 "nbformat_minor": 5
}
