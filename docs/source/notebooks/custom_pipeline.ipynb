{
 "cells": [
  {
   "cell_type": "markdown",
   "metadata": {},
   "source": [
    "# Custom pipeline\n",
    "\n",
    "In *prose*, `Block` objects (which are dedicated to image analysis and/or modification) can be aranged into `Unit` which have the following workflow:\n",
    "\n",
    "\n",
    "<div style=\"text-align:center\">\n",
    "    <img src=\"../_static/unit_structure.png\" width=\"650px\" align=center></img>\n",
    "</div>\n",
    "\n",
    "\n",
    "By providing [many pre-implemented blocks](../../guide/api/blocks.rst) one can arange a complete pipeline to achieve a specific analysis. `Block` can also be implemented to include custom processing.\n",
    "\n",
    "## Objective\n",
    "\n",
    "In this tutorial we will create a custom`Block` and include it in a pipeline (`Unit`) which goal is to detect and trace a moving object in the following observation:\n",
    "\n",
    "<div style=\"text-align:center\">\n",
    "    <img src=\"../_static/moving_dataset_movie.gif\" width=\"200px\" align=center></img>\n",
    "</div>\n",
    "\n",
    "Dataset\n",
    "-------\n",
    "For this tutorial we will work on a synthetic observation which gif can be seen above. To generate this dataset:\n"
   ]
  },
  {
   "cell_type": "code",
   "execution_count": null,
   "metadata": {},
   "outputs": [],
   "source": [
    "from prose.datasets import generate_prose_reduction_dataset\n",
    "\n",
    "dataset = \"moving_object_dataset\"\n",
    "generate_prose_reduction_dataset(dataset, moving=[5, [0,40], [75, 60]], n_images=15)"
   ]
  },
  {
   "cell_type": "markdown",
   "metadata": {},
   "source": [
    "We directly instantiate a `FitsManager` object to explore this folder"
   ]
  },
  {
   "cell_type": "code",
   "execution_count": null,
   "metadata": {},
   "outputs": [],
   "source": [
    "from prose import FitsManager\n",
    "#\n",
    "fm = FitsManager(dataset)"
   ]
  },
  {
   "cell_type": "code",
   "execution_count": null,
   "metadata": {
    "nbsphinx": "hidden"
   },
   "outputs": [],
   "source": [
    "# hidden\n",
    "\n",
    "from prose import Unit\n",
    "from prose.blocks import Video\n",
    "\n",
    "u = Unit([\n",
    "    Video(\"moving_dataset_movie.gif\", factor=2, from_fits=True),\n",
    "], fm.images)\n",
    "\n",
    "_ = u.run()"
   ]
  },
  {
   "cell_type": "markdown",
   "metadata": {},
   "source": [
    "## Principle\n",
    "\n",
    "We will use difference imaging to locate the moving object. This is shown in the next code where we can see that difference between consecutive images allow to locate a moving source."
   ]
  },
  {
   "cell_type": "code",
   "execution_count": null,
   "metadata": {},
   "outputs": [],
   "source": [
    "fm.images"
   ]
  },
  {
   "cell_type": "code",
   "execution_count": null,
   "metadata": {},
   "outputs": [],
   "source": [
    "import numpy as np\n",
    "from astropy.io import fits\n",
    "import matplotlib.pyplot as plt\n",
    "\n",
    "# loading first and second images\n",
    "files = fm.images\n",
    "im0 = fits.getdata(files[5])\n",
    "im1 = fits.getdata(files[6])\n",
    "\n",
    "# difference image\n",
    "im_diff = im1 - im0\n",
    "\n",
    "# max difference position\n",
    "position = np.array(np.unravel_index(np.argmax(im_diff), im_diff.shape))[::-1]\n",
    "\n",
    "plt.imshow(im_diff)\n",
    "_ = plt.plot(*position, \"x\", c=\"k\")"
   ]
  },
  {
   "cell_type": "markdown",
   "metadata": {},
   "source": [
    "## Creating a new :`Block`\n",
    "\n",
    "Now we can create a `Block` (subclass) that will extract and store this information. As a reminder, a block has the following strucure:\n",
    "\n",
    "<div style=\"text-align:center\">\n",
    "    <img src=\"../_static/block_structure.png\" width=\"400px\" align=center></img>\n",
    "</div>"
   ]
  },
  {
   "cell_type": "code",
   "execution_count": null,
   "metadata": {},
   "outputs": [],
   "source": [
    "from prose import Block\n",
    "from prose.utils import z_scale\n",
    "\n",
    "class MovingTarget(Block):\n",
    "    \n",
    "    # nothing to initialize\n",
    "    \n",
    "    def __init__(self, **kwargs):\n",
    "        super().__init__(**kwargs)\n",
    "        \n",
    "        # stores last image and positions\n",
    "        self.last_image = None \n",
    "        self.positions = []\n",
    "        \n",
    "    def run(self, image):\n",
    "        \n",
    "        # difference imaging we did above\n",
    "        if self.last_image is None:\n",
    "            self.positions.append(None)\n",
    "        else:\n",
    "            im_diff = image.data - self.last_image\n",
    "            position = np.unravel_index(np.argmax(im_diff), im_diff.shape)[::-1]\n",
    "            self.positions.append(position)\n",
    "         \n",
    "        self.last_image = image.data\n",
    "\n",
    "    def terminate(self):\n",
    "        \n",
    "        # We finish by plotting positions over the last image\n",
    "        plt.imshow(z_scale(self.last_image), cmap=\"Greys_r\")\n",
    "        coords_path = np.array(self.positions[1::])\n",
    "        plt.plot(*coords_path.T, \"-o\", ms=4)"
   ]
  },
  {
   "cell_type": "markdown",
   "metadata": {},
   "source": [
    "We can now place our new block in a `Unit` and run it:"
   ]
  },
  {
   "cell_type": "code",
   "execution_count": null,
   "metadata": {},
   "outputs": [],
   "source": [
    "from prose import Unit\n",
    "\n",
    "pipeline = Unit([\n",
    "    MovingTarget()\n",
    "], fm.images)\n",
    "\n",
    "_ = pipeline.run()"
   ]
  },
  {
   "cell_type": "code",
   "execution_count": null,
   "metadata": {
    "nbsphinx": "hidden"
   },
   "outputs": [],
   "source": [
    "# hidden\n",
    "from shutil import rmtree\n",
    "\n",
    "rmtree(dataset)"
   ]
  }
 ],
 "metadata": {
  "kernelspec": {
   "display_name": "Python 3",
   "language": "python",
   "name": "python3"
  },
  "language_info": {
   "codemirror_mode": {
    "name": "ipython",
    "version": 3
   },
   "file_extension": ".py",
   "mimetype": "text/x-python",
   "name": "python",
   "nbconvert_exporter": "python",
   "pygments_lexer": "ipython3",
   "version": "3.7.5"
  }
 },
 "nbformat": 4,
 "nbformat_minor": 4
}
