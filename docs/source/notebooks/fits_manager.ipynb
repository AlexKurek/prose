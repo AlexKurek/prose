{
 "cells": [
  {
   "cell_type": "markdown",
   "id": "established-consistency",
   "metadata": {},
   "source": [
    "# Fits manager"
   ]
  },
  {
   "cell_type": "code",
   "execution_count": 2,
   "id": "tribal-vatican",
   "metadata": {},
   "outputs": [],
   "source": [
    "from prose import FitsManager, Telescope\n",
    "from prose import tutorials"
   ]
  },
  {
   "cell_type": "markdown",
   "id": "injured-active",
   "metadata": {},
   "source": [
    "Astronomical observations often generate highly disorganised fits images folders. To know the content of these files, file names can be used but have their limitations. At the end it is not rare to start opening these files to acces the information in their headers.\n",
    "\n",
    "To solve this organisation problem, prose features the `FitsManager` object, a conveniant tool to ease the sorting process."
   ]
  },
  {
   "cell_type": "markdown",
   "id": "social-rover",
   "metadata": {},
   "source": [
    "## Generating fake fits\n",
    "\n",
    "Lets' generate a set of fake images all stored in the same folder but with different attributes and no way to distinguish them from their file names. These data will be taken from telescope `A` and `B` , let's define them:"
   ]
  },
  {
   "cell_type": "code",
   "execution_count": 3,
   "id": "saving-weekend",
   "metadata": {},
   "outputs": [
    {
     "name": "stdout",
     "output_type": "stream",
     "text": [
      "Telescope 'a' saved\n",
      "Telescope 'b' saved\n"
     ]
    }
   ],
   "source": [
    "_ = Telescope(dict(name=\"A\"))\n",
    "_ = Telescope(dict(name=\"B\"))"
   ]
  },
  {
   "cell_type": "markdown",
   "id": "medical-sport",
   "metadata": {},
   "source": [
    "We will now simulate some images from `A` and `B` all located in a single folder, featuring different sizes, filters and associated calibration:"
   ]
  },
  {
   "cell_type": "code",
   "execution_count": 4,
   "id": "controlled-better",
   "metadata": {},
   "outputs": [],
   "source": [
    "destination = \"./fake_observations\"\n",
    "tutorials.disorganised_folder(destination)"
   ]
  },
  {
   "cell_type": "markdown",
   "id": "fantastic-arnold",
   "metadata": {},
   "source": [
    "## The Fits Manager object"
   ]
  },
  {
   "cell_type": "markdown",
   "id": "infrared-imaging",
   "metadata": {},
   "source": [
    "To dig into these disorganised data, we instantiate a `FitsManager` on the folder and see its content"
   ]
  },
  {
   "cell_type": "code",
   "execution_count": 6,
   "id": "primary-wilderness",
   "metadata": {},
   "outputs": [
    {
     "name": "stderr",
     "output_type": "stream",
     "text": [
      "100%|██████████| 21/21 [00:00<00:00, 648.59it/s]"
     ]
    },
    {
     "name": "stdout",
     "output_type": "stream",
     "text": [
      "╒═════════╤════════════╤═════════════╤══════════╤══════════╤════════════╕\n",
      "│   index │ date       │ telescope   │ target   │ filter   │   quantity │\n",
      "╞═════════╪════════════╪═════════════╪══════════╪══════════╪════════════╡\n",
      "│       0 │ 2021-03-05 │ A           │ prose    │ a        │          5 │\n",
      "├─────────┼────────────┼─────────────┼──────────┼──────────┼────────────┤\n",
      "│       1 │ 2021-03-05 │ A           │ prose    │ b        │          5 │\n",
      "├─────────┼────────────┼─────────────┼──────────┼──────────┼────────────┤\n",
      "│       2 │ 2021-03-05 │ B           │ prose    │ b        │          5 │\n",
      "╘═════════╧════════════╧═════════════╧══════════╧══════════╧════════════╛\n"
     ]
    },
    {
     "name": "stderr",
     "output_type": "stream",
     "text": [
      "\n"
     ]
    }
   ],
   "source": [
    "fm = FitsManager(destination)\n",
    "fm.observations"
   ]
  },
  {
   "cell_type": "markdown",
   "id": "searching-layout",
   "metadata": {},
   "source": [
    "As we can see the `FitsManager` object does a great job in splitting our fits into convient categories. We created some calibration files as well that can be seen with"
   ]
  },
  {
   "cell_type": "code",
   "execution_count": 7,
   "id": "quantitative-photographer",
   "metadata": {},
   "outputs": [
    {
     "name": "stdout",
     "output_type": "stream",
     "text": [
      "╒════════════╤═════════════╤══════════╤══════════╤════════╤════════════╕\n",
      "│ date       │ telescope   │ target   │ filter   │ type   │   quantity │\n",
      "╞════════════╪═════════════╪══════════╪══════════╪════════╪════════════╡\n",
      "│ 2021-03-05 │ A           │ prose    │          │ dark   │          2 │\n",
      "├────────────┼─────────────┼──────────┼──────────┼────────┼────────────┤\n",
      "│ 2021-03-05 │ A           │ prose    │ a        │ light  │          5 │\n",
      "├────────────┼─────────────┼──────────┼──────────┼────────┼────────────┤\n",
      "│ 2021-03-05 │ A           │ prose    │ b        │ flat   │          2 │\n",
      "├────────────┼─────────────┼──────────┼──────────┼────────┼────────────┤\n",
      "│ 2021-03-05 │ A           │ prose    │ b        │ light  │          5 │\n",
      "├────────────┼─────────────┼──────────┼──────────┼────────┼────────────┤\n",
      "│ 2021-03-05 │ A           │ prose    │ c        │ flat   │          2 │\n",
      "├────────────┼─────────────┼──────────┼──────────┼────────┼────────────┤\n",
      "│ 2021-03-05 │ B           │ prose    │ b        │ light  │          5 │\n",
      "╘════════════╧═════════════╧══════════╧══════════╧════════╧════════════╛\n"
     ]
    }
   ],
   "source": [
    "fm.calib"
   ]
  },
  {
   "cell_type": "code",
   "execution_count": 8,
   "id": "delayed-brain",
   "metadata": {},
   "outputs": [
    {
     "name": "stdout",
     "output_type": "stream",
     "text": [
      "╒══════════════╤════════╤════════╤════════════╕\n",
      "│ dimensions   │ flip   │ type   │   quantity │\n",
      "╞══════════════╪════════╪════════╪════════════╡\n",
      "│ (10, 10)     │        │ dark   │          2 │\n",
      "├──────────────┼────────┼────────┼────────────┤\n",
      "│ (10, 10)     │        │ flat   │          4 │\n",
      "├──────────────┼────────┼────────┼────────────┤\n",
      "│ (10, 10)     │        │ light  │         10 │\n",
      "├──────────────┼────────┼────────┼────────────┤\n",
      "│ (10, 20)     │        │ light  │          5 │\n",
      "╘══════════════╧════════╧════════╧════════════╛\n"
     ]
    }
   ],
   "source": [
    "fm.describe(\"dimensions\", \"flip\", \"type\")"
   ]
  },
  {
   "cell_type": "markdown",
   "id": "bright-hobby",
   "metadata": {},
   "source": [
    "## Picking an observation\n",
    "\n",
    "From there let say we want to keep the observation indexed `1` from the observations table:"
   ]
  },
  {
   "cell_type": "code",
   "execution_count": 9,
   "id": "magnetic-america",
   "metadata": {},
   "outputs": [
    {
     "name": "stdout",
     "output_type": "stream",
     "text": [
      "╒════════════╤═════════════╤══════════╤══════════╤════════╤════════════╕\n",
      "│ date       │ telescope   │ target   │ filter   │ type   │   quantity │\n",
      "╞════════════╪═════════════╪══════════╪══════════╪════════╪════════════╡\n",
      "│ 2021-03-05 │ A           │ prose    │          │ dark   │          2 │\n",
      "├────────────┼─────────────┼──────────┼──────────┼────────┼────────────┤\n",
      "│ 2021-03-05 │ A           │ prose    │ b        │ flat   │          2 │\n",
      "├────────────┼─────────────┼──────────┼──────────┼────────┼────────────┤\n",
      "│ 2021-03-05 │ A           │ prose    │ b        │ light  │          5 │\n",
      "╘════════════╧═════════════╧══════════╧══════════╧════════╧════════════╛\n"
     ]
    }
   ],
   "source": [
    "fm.set_observation(1)\n",
    "fm.calib"
   ]
  },
  {
   "cell_type": "markdown",
   "id": "fewer-hostel",
   "metadata": {},
   "source": [
    "We now have our observation isolated. We recognised for example that flats with the right filter have been kept. To get some specific files:"
   ]
  },
  {
   "cell_type": "code",
   "execution_count": 10,
   "id": "appointed-stanley",
   "metadata": {},
   "outputs": [
    {
     "data": {
      "text/plain": [
       "(array(['/Users/lionelgarcia/Code/prose/docs/source/notebooks/fake_observations/A-bis-test_d0.fits',\n",
       "        '/Users/lionelgarcia/Code/prose/docs/source/notebooks/fake_observations/A-bis-test_d1.fits'],\n",
       "       dtype='<U89'),\n",
       " array(['/Users/lionelgarcia/Code/prose/docs/source/notebooks/fake_observations/A-bis-testf1_0.fits',\n",
       "        '/Users/lionelgarcia/Code/prose/docs/source/notebooks/fake_observations/A-bis-testf1_1.fits'],\n",
       "       dtype='<U90'),\n",
       " array(['/Users/lionelgarcia/Code/prose/docs/source/notebooks/fake_observations/A-bis-test0.fits',\n",
       "        '/Users/lionelgarcia/Code/prose/docs/source/notebooks/fake_observations/A-bis-test1.fits',\n",
       "        '/Users/lionelgarcia/Code/prose/docs/source/notebooks/fake_observations/A-bis-test2.fits',\n",
       "        '/Users/lionelgarcia/Code/prose/docs/source/notebooks/fake_observations/A-bis-test3.fits',\n",
       "        '/Users/lionelgarcia/Code/prose/docs/source/notebooks/fake_observations/A-bis-test4.fits'],\n",
       "       dtype='<U87'))"
      ]
     },
     "execution_count": 10,
     "metadata": {},
     "output_type": "execute_result"
    }
   ],
   "source": [
    "fm.darks, fm.flats, fm.images"
   ]
  },
  {
   "cell_type": "markdown",
   "id": "infectious-regard",
   "metadata": {},
   "source": [
    "## Some more details\n",
    "\n",
    "### Restoring original state "
   ]
  },
  {
   "cell_type": "markdown",
   "id": "political-dancing",
   "metadata": {},
   "source": [
    "When using `set_observation` the `FitsManager` object has been replaced inplace. However, the original information is not lost and can be restored whith"
   ]
  },
  {
   "cell_type": "code",
   "execution_count": 11,
   "id": "sudden-strategy",
   "metadata": {},
   "outputs": [
    {
     "name": "stdout",
     "output_type": "stream",
     "text": [
      "╒═════════╤════════════╤═════════════╤══════════╤══════════╤════════════╕\n",
      "│   index │ date       │ telescope   │ target   │ filter   │   quantity │\n",
      "╞═════════╪════════════╪═════════════╪══════════╪══════════╪════════════╡\n",
      "│       0 │ 2021-03-05 │ A           │ prose    │ a        │          5 │\n",
      "├─────────┼────────────┼─────────────┼──────────┼──────────┼────────────┤\n",
      "│       1 │ 2021-03-05 │ A           │ prose    │ b        │          5 │\n",
      "├─────────┼────────────┼─────────────┼──────────┼──────────┼────────────┤\n",
      "│       2 │ 2021-03-05 │ B           │ prose    │ b        │          5 │\n",
      "╘═════════╧════════════╧═════════════╧══════════╧══════════╧════════════╛\n"
     ]
    }
   ],
   "source": [
    "fm.restore()\n",
    "fm.observations"
   ]
  },
  {
   "cell_type": "markdown",
   "id": "declared-hayes",
   "metadata": {},
   "source": [
    "### Telescope specific keywords"
   ]
  },
  {
   "cell_type": "markdown",
   "id": "baking-steal",
   "metadata": {},
   "source": [
    "The information retained by `FitsManager` was taken from images headers. To know which keywords to use, we had to register telescopes `A` and `B` with a dictionary. Whenever their names appear in a fits header, their disctionary is loaded to read their header keywords.\n",
    "\n",
    "Since we just specified the telescope names all the rest is default. For example the filter is taken from the keyword `FILTER` and the image type from `IMAGETYP`, knowing that `IMAGETYP=light` is a light (a.k.a science) frame. All this can be set in more details when registering the telescope and make prose work with any instrument.\n",
    "\n",
    "for more details, chcek the `Telescope` object"
   ]
  },
  {
   "cell_type": "code",
   "execution_count": 12,
   "id": "orange-somalia",
   "metadata": {},
   "outputs": [],
   "source": [
    "# hidden\n",
    "from shutil import rmtree\n",
    "\n",
    "rmtree(destination)"
   ]
  }
 ],
 "metadata": {
  "jupytext": {
   "formats": "ipynb,py:percent"
  },
  "kernelspec": {
   "display_name": "Python 3",
   "language": "python",
   "name": "python3"
  },
  "language_info": {
   "codemirror_mode": {
    "name": "ipython",
    "version": 3
   },
   "file_extension": ".py",
   "mimetype": "text/x-python",
   "name": "python",
   "nbconvert_exporter": "python",
   "pygments_lexer": "ipython3",
   "version": "3.7.5"
  }
 },
 "nbformat": 4,
 "nbformat_minor": 5
}
