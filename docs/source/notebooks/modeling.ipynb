{
 "cells": [
  {
   "cell_type": "markdown",
   "id": "sought-swing",
   "metadata": {},
   "source": [
    "# Modeling\n",
    "\n",
    "*prose* does not implement a modeling framework, many options are currently available in python. However, it features some tools to aid in selecting the right model, mainly linear ones.\n",
    "\n",
    "In this tutorial we will review some of these tools and show how the prose products can conveniently be used within `exoplanet`, itself using the `pymc3` inference framework."
   ]
  },
  {
   "cell_type": "markdown",
   "id": "after-basic",
   "metadata": {},
   "source": [
    "## Making up some data\n",
    "\n",
    "As usual we will work on simulated data. Here we propose to analyse a planetary transit light curve in which we added some instrumental signals \n",
    "> TODO - in the meanwhile"
   ]
  },
  {
   "cell_type": "code",
   "execution_count": null,
   "id": "curious-correction",
   "metadata": {},
   "outputs": [],
   "source": [
    "import numpy as np\n",
    "import matplotlib.pyplot as plt\n",
    "from prose.simulations import observation_to_model\n",
    "\n",
    "np.random.seed(37)\n",
    "\n",
    "time = np.linspace(0, 0.3, 300)\n",
    "obs = observation_to_model(time)\n",
    "obs.plot()\n",
    "plt.ylim(0.98, 1.02)"
   ]
  },
  {
   "cell_type": "markdown",
   "id": "apart-probe",
   "metadata": {},
   "source": [
    "## Linear models"
   ]
  },
  {
   "cell_type": "markdown",
   "id": "geographic-advertiser",
   "metadata": {},
   "source": [
    "### Polynomial systematics"
   ]
  },
  {
   "cell_type": "markdown",
   "id": "freelance-excerpt",
   "metadata": {},
   "source": [
    "It is common to model the instrumental signals using a polynomial model dependant on the systematics measurements. \n",
    "\n",
    "> TO DO: put some algebra basics"
   ]
  },
  {
   "cell_type": "markdown",
   "id": "elder-newman",
   "metadata": {},
   "source": [
    "Before doing any of that let's remove some obvious outliers and prepare our light-curve"
   ]
  },
  {
   "cell_type": "code",
   "execution_count": null,
   "id": "checked-factory",
   "metadata": {},
   "outputs": [],
   "source": [
    "obs = obs.sigma_clip()"
   ]
  },
  {
   "cell_type": "markdown",
   "id": "rubber-testimony",
   "metadata": {},
   "source": [
    "models.constant(obs.time),We can now use prose methods to build a linear model by defining its *design matrix*"
   ]
  },
  {
   "cell_type": "code",
   "execution_count": null,
   "id": "intensive-horizontal",
   "metadata": {},
   "outputs": [],
   "source": [
    "from prose import models\n",
    "import matplotlib.pyplot as plt\n",
    "\n",
    "dm = models.design_matrix([\n",
    "    models.constant(obs.time),\n",
    "    models.polynomial(obs.sky, 3)\n",
    "])\n",
    "\n",
    "trend = obs.trend(dm)\n",
    "\n",
    "obs.plot()\n",
    "plt.plot(obs.time, trend)\n",
    "plt.ylim(0.98, 1.02)"
   ]
  },
  {
   "cell_type": "markdown",
   "id": "likely-delta",
   "metadata": {},
   "source": [
    "### Adding a transit\n",
    "\n",
    "Our data contains a transit signal which, at first order, can be modeled as a scaled transit of unitary depth. To do that we will add this template to our design matrix. Here, we will use the more conveniant `Observation.polynomial()` method which comes handy for more complex models."
   ]
  },
  {
   "cell_type": "code",
   "execution_count": null,
   "id": "synthetic-thinking",
   "metadata": {},
   "outputs": [],
   "source": [
    "import numpy as np\n",
    "\n",
    "t0 = 0.1\n",
    "duration = 0.03\n",
    "\n",
    "dm = np.hstack([\n",
    "    obs.polynomial(sky=1, dy=1),\n",
    "    obs.transit(t0, duration)\n",
    "])\n",
    "\n",
    "# Notice the use of split to get the transit model\n",
    "trend, transit = obs.trend(dm, split=-1)"
   ]
  },
  {
   "cell_type": "markdown",
   "id": "sufficient-conversion",
   "metadata": {},
   "source": [
    "Let's do a nice plot"
   ]
  },
  {
   "cell_type": "code",
   "execution_count": null,
   "id": "spanish-infection",
   "metadata": {},
   "outputs": [],
   "source": [
    "from prose import viz\n",
    "plt.figure(figsize=(12,4))\n",
    "\n",
    "plt.subplot(121)\n",
    "obs.plot()\n",
    "plt.plot(obs.time, transit + trend, label=\"model\")\n",
    "plt.plot(obs.time, transit + 1., \"--\", color=\"0.5\", label=\"transit\")\n",
    "plt.ylim(0.98, 1.02)\n",
    "plt.title(\"raw\", loc=\"left\")\n",
    "plt.legend()\n",
    "\n",
    "plt.subplot(122)\n",
    "viz.plot_lc(obs.time, obs.flux - trend + 1.)\n",
    "plt.plot(obs.time, transit + 1., label=\"transit\")\n",
    "plt.ylim(0.98, 1.02)\n",
    "plt.title(\"detrended\", loc=\"left\")"
   ]
  },
  {
   "cell_type": "markdown",
   "id": "appropriate-mouth",
   "metadata": {},
   "source": [
    "### Using the BIC\n",
    "\n",
    "We used an arbitrary model. To choose a bit more \"wisely\" we could use the AIC or BIC. Here we will iterate on a range of possible polynomial order combinations and compute which one gives the best BIC:"
   ]
  },
  {
   "cell_type": "markdown",
   "id": "neutral-scottish",
   "metadata": {},
   "source": [
    "> TO DO"
   ]
  },
  {
   "cell_type": "markdown",
   "id": "voluntary-passenger",
   "metadata": {},
   "source": [
    "This combination can be used within the next step when we doing a fully bayesian modeling of our data with `exoplanet`"
   ]
  },
  {
   "cell_type": "markdown",
   "id": "adjustable-graphics",
   "metadata": {},
   "source": [
    "## Bayesian modeling\n",
    "\n",
    "> TO DO"
   ]
  }
 ],
 "metadata": {
  "kernelspec": {
   "display_name": "Python 3",
   "language": "python",
   "name": "python3"
  },
  "language_info": {
   "codemirror_mode": {
    "name": "ipython",
    "version": 3
   },
   "file_extension": ".py",
   "mimetype": "text/x-python",
   "name": "python",
   "nbconvert_exporter": "python",
   "pygments_lexer": "ipython3",
   "version": "3.7.5"
  }
 },
 "nbformat": 4,
 "nbformat_minor": 5
}
