{
 "cells": [
  {
   "cell_type": "markdown",
   "id": "decreased-courtesy",
   "metadata": {},
   "source": [
    "# Reports"
   ]
  },
  {
   "cell_type": "markdown",
   "id": "grateful-landing",
   "metadata": {},
   "source": [
    "To communicate results, it is often essential to produce pdf reports out of observations. *prose* features auto-generated latex reports from `Observation` objects."
   ]
  },
  {
   "cell_type": "markdown",
   "id": "interim-artist",
   "metadata": {},
   "source": [
    "## The basic\n",
    "\n",
    "As usual we load our observation"
   ]
  },
  {
   "cell_type": "code",
   "execution_count": null,
   "id": "eastern-conspiracy",
   "metadata": {},
   "outputs": [],
   "source": [
    "from prose import load\n",
    "\n",
    "obs = load(\"...\")"
   ]
  },
  {
   "cell_type": "markdown",
   "id": "complete-classic",
   "metadata": {},
   "source": [
    "we can now run"
   ]
  },
  {
   "cell_type": "code",
   "execution_count": null,
   "id": "vocational-background",
   "metadata": {},
   "outputs": [],
   "source": [
    "from prose.reports import ObservationReport\n",
    "\n",
    "report = ObservationReport(obs)\n",
    "report.make(f\"{obs.denominator}_report\")"
   ]
  },
  {
   "cell_type": "markdown",
   "id": "acoustic-coaching",
   "metadata": {},
   "source": [
    "<div class=\"alert alert-info\">\n",
    "\n",
    "Note\n",
    "\n",
    "`obs.denominator` is just a conveniant attribute returning a string like `\"telescope_target_date_filter\"`\n",
    "\n",
    "</div>"
   ]
  },
  {
   "cell_type": "markdown",
   "id": "accessory-landscape",
   "metadata": {},
   "source": [
    "The last command generated a folder containing everything needed for the included `report.tex` to be compiled on your side. This is a $\\LaTeX$ file so feel free to add notes and extend it for your needs."
   ]
  }
 ],
 "metadata": {
  "kernelspec": {
   "display_name": "Python 3",
   "language": "python",
   "name": "python3"
  },
  "language_info": {
   "codemirror_mode": {
    "name": "ipython",
    "version": 3
   },
   "file_extension": ".py",
   "mimetype": "text/x-python",
   "name": "python",
   "nbconvert_exporter": "python",
   "pygments_lexer": "ipython3",
   "version": "3.7.5"
  }
 },
 "nbformat": 4,
 "nbformat_minor": 5
}
