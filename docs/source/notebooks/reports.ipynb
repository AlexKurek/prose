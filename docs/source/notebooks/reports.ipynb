{
 "cells": [
  {
   "cell_type": "markdown",
   "id": "brief-prize",
   "metadata": {},
   "source": [
    "# Reports"
   ]
  },
  {
   "cell_type": "markdown",
   "id": "dirty-lingerie",
   "metadata": {},
   "source": [
    "IT is often conveniant to produce pdf reports from the data gathered during an observation. prose features auto-generated latex reports from `Observation` objects.\n",
    "\n",
    "As usual we load our observation"
   ]
  },
  {
   "cell_type": "code",
   "execution_count": null,
   "id": "alike-islam",
   "metadata": {},
   "outputs": [],
   "source": [
    "from prose import load\n",
    "\n",
    "obs = load(\"...\")"
   ]
  },
  {
   "cell_type": "markdown",
   "id": "compatible-george",
   "metadata": {},
   "source": [
    "we can now run"
   ]
  },
  {
   "cell_type": "code",
   "execution_count": null,
   "id": "severe-capability",
   "metadata": {},
   "outputs": [],
   "source": [
    "from prose.reports import ObservationReport\n",
    "\n",
    "report = ObservationReport(obs)\n",
    "report.make(f\"{obs.denominator}_report\")"
   ]
  },
  {
   "cell_type": "markdown",
   "id": "knowing-cosmetic",
   "metadata": {},
   "source": [
    "<div class=\"alert alert-info\">\n",
    "\n",
    "Note\n",
    "\n",
    "`obs.denominator` is just a conveniance attribute returning un string like \"Telescope_target_date_filter\"\n",
    "\n",
    "</div>"
   ]
  },
  {
   "cell_type": "markdown",
   "id": "local-retention",
   "metadata": {},
   "source": [
    "The last command generated a folder containing everything needed for the included `report.tex` to be compiled on your side. This is a $\\LaTeX$ file so feel free to add notes and extend it for your needs."
   ]
  }
 ],
 "metadata": {
  "kernelspec": {
   "display_name": "Python 3",
   "language": "python",
   "name": "python3"
  },
  "language_info": {
   "codemirror_mode": {
    "name": "ipython",
    "version": 3
   },
   "file_extension": ".py",
   "mimetype": "text/x-python",
   "name": "python",
   "nbconvert_exporter": "python",
   "pygments_lexer": "ipython3",
   "version": "3.7.5"
  }
 },
 "nbformat": 4,
 "nbformat_minor": 5
}
