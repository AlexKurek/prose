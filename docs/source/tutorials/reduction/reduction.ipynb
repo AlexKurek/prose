{
 "cells": [
  {
   "cell_type": "code",
   "execution_count": 3,
   "metadata": {},
   "outputs": [
    {
     "data": {
      "application/javascript": [
       "document.title=\"prose (docs)\""
      ],
      "text/plain": [
       "<IPython.core.display.Javascript object>"
      ]
     },
     "execution_count": 3,
     "metadata": {},
     "output_type": "execute_result"
    }
   ],
   "source": [
    "from IPython.display import display,Javascript\n",
    "Javascript('document.title=\"{}\"'.format(\"prose (docs)\"))"
   ]
  },
  {
   "cell_type": "code",
   "execution_count": 4,
   "metadata": {},
   "outputs": [
    {
     "name": "stdout",
     "output_type": "stream",
     "text": [
      "Telescope 'ntm' saved\n"
     ]
    },
    {
     "data": {
      "text/plain": [
       "<prose.telescope.Telescope at 0x102fdbb70>"
      ]
     },
     "execution_count": 4,
     "metadata": {},
     "output_type": "execute_result"
    }
   ],
   "source": [
    "from prose import Telescope, pipeline\n",
    "\n",
    "Telescope({\n",
    "    \"name\": \"NTM\",\n",
    "    \"trimming\": [40, 40],\n",
    "    \"pixel_scale\": 0.66,\n",
    "    \"latlong\": [31.2027, 7.8586],\n",
    "    \"keyword_light_images\": \"light\"\n",
    "})"
   ]
  },
  {
   "cell_type": "code",
   "execution_count": 6,
   "metadata": {},
   "outputs": [
    {
     "name": "stdout",
     "output_type": "stream",
     "text": [
      "1 observation found :\n",
      "╒═════════╤════════════╤═════════════╤══════════╤══════════╤════════════╕\n",
      "│   index │ date       │ telescope   │ target   │ filter   │   quantity │\n",
      "╞═════════╪════════════╪═════════════╪══════════╪══════════╪════════════╡\n",
      "│       0 │ 2020-02-29 │ test        │ Qatar2b  │ I+z      │          3 │\n",
      "╘═════════╧════════════╧═════════════╧══════════╧══════════╧════════════╛\n"
     ]
    }
   ],
   "source": [
    "photometry_folder = \"/Users/lionelgarcia/Code/prose/test/minimal_quatar2b_dataset\"\n",
    "\n",
    "reduction = pipeline.Reduction(photometry_folder, depth=2)\n",
    "reduction.describe_observations()"
   ]
  },
  {
   "cell_type": "code",
   "execution_count": 7,
   "metadata": {},
   "outputs": [
    {
     "name": "stderr",
     "output_type": "stream",
     "text": [
      "\u001b[94mRUN: \u001b[39mReduction: 100%|\u001b[94m██████████████████████████\u001b[39m| 3/3 [00:00<00:00, 11.49files/s]\u001b[0m\n"
     ]
    }
   ],
   "source": [
    "reduction.set_observation(0)\n",
    "destination = reduction.run()"
   ]
  },
  {
   "cell_type": "code",
   "execution_count": 8,
   "metadata": {},
   "outputs": [
    {
     "name": "stderr",
     "output_type": "stream",
     "text": [
      "\u001b[94mRUN: \u001b[39mPhotometry extraction:   0%|\u001b[94m                      \u001b[39m| 0/3 [00:00<?, ?files/s]\u001b[0m"
     ]
    },
    {
     "name": "stdout",
     "output_type": "stream",
     "text": [
      "\u001b[94mINFO:\u001b[39m 7 stars detected\n",
      "\u001b[94mINFO:\u001b[39m global psf FWHM: 3.78 (pixels)\n"
     ]
    },
    {
     "name": "stderr",
     "output_type": "stream",
     "text": [
      "\u001b[94mRUN: \u001b[39mPhotometry extraction: 100%|\u001b[94m██████████████\u001b[39m| 3/3 [00:00<00:00, 17.13files/s]\u001b[0m\n"
     ]
    }
   ],
   "source": [
    "photometry = pipeline.Photometry(destination)\n",
    "photometry.run()"
   ]
  },
  {
   "cell_type": "code",
   "execution_count": 9,
   "metadata": {},
   "outputs": [
    {
     "name": "stderr",
     "output_type": "stream",
     "text": [
      "\u001b[94mRUN: \u001b[39mGif: 100%|\u001b[94m████████████████████████████████\u001b[39m| 3/3 [00:00<00:00, 25.32files/s]\u001b[0m\n"
     ]
    }
   ],
   "source": [
    "pipeline.produce_gif(destination)"
   ]
  },
  {
   "cell_type": "code",
   "execution_count": null,
   "metadata": {},
   "outputs": [],
   "source": []
  }
 ],
 "metadata": {
  "kernelspec": {
   "display_name": "Python 3",
   "language": "python",
   "name": "python3"
  },
  "language_info": {
   "codemirror_mode": {
    "name": "ipython",
    "version": 3
   },
   "file_extension": ".py",
   "mimetype": "text/x-python",
   "name": "python",
   "nbconvert_exporter": "python",
   "pygments_lexer": "ipython3",
   "version": "3.6.5"
  }
 },
 "nbformat": 4,
 "nbformat_minor": 4
}
